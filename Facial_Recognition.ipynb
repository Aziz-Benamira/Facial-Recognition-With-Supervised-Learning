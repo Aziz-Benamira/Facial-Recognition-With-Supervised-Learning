{
 "cells": [
  {
   "cell_type": "code",
   "execution_count": 3,
   "metadata": {},
   "outputs": [],
   "source": [
    "# Import necessary libraries\n",
    "# These are the essential libraries used for data manipulation, model building, and evaluation.\n",
    "import pandas as pd\n",
    "from sklearn.model_selection import train_test_split, KFold, GridSearchCV\n",
    "from sklearn.pipeline import Pipeline\n",
    "from sklearn.preprocessing import StandardScaler\n",
    "from sklearn.linear_model import LogisticRegression\n",
    "from sklearn.neighbors import KNeighborsClassifier\n",
    "from sklearn.tree import DecisionTreeClassifier\n",
    "from sklearn.metrics import (\n",
    "    accuracy_score, precision_score, recall_score, f1_score, confusion_matrix\n",
    ")\n",
    "import seaborn as sns\n",
    "import matplotlib.pyplot as plt"
   ]
  },
  {
   "cell_type": "code",
   "execution_count": 4,
   "metadata": {},
   "outputs": [],
   "source": [
    "# Load the dataset\n",
    "# The data consists of principal components and a binary label indicating Arnold Schwarzenegger (1) or not (0).\n",
    "data_path = \"lfw_arnie_nonarnie.csv\"\n",
    "data = pd.read_csv(data_path)"
   ]
  },
  {
   "cell_type": "code",
   "execution_count": 5,
   "metadata": {},
   "outputs": [],
   "source": [
    "# Separate predictors (X) and target variable (y)\n",
    "X_features = data.drop(\"Label\", axis=1)\n",
    "y_target = data[\"Label\"]\n",
    "\n",
    "# Split into training and testing sets\n",
    "# Stratification ensures balanced representation of classes in both sets.\n",
    "X_train, X_test, y_train, y_test = train_test_split(\n",
    "    X_features, y_target, test_size=0.2, random_state=42, stratify=y_target\n",
    ")"
   ]
  },
  {
   "cell_type": "code",
   "execution_count": 6,
   "metadata": {},
   "outputs": [],
   "source": [
    "# Define models and their hyperparameters for GridSearchCV\n",
    "# Each model has its own parameter grid for exploration.\n",
    "models_dict = {\n",
    "    \"LogisticRegression\": {\n",
    "        \"model\": LogisticRegression(),\n",
    "        \"params\": {\"model__C\": [0.01, 0.1, 1, 10]}\n",
    "    },\n",
    "    \"KNN\": {\n",
    "        \"model\": KNeighborsClassifier(),\n",
    "        \"params\": {\n",
    "            \"model__n_neighbors\": [3, 5, 7],\n",
    "            \"model__weights\": [\"uniform\", \"distance\"]\n",
    "        }\n",
    "    },\n",
    "    \"DecisionTree\": {\n",
    "        \"model\": DecisionTreeClassifier(),\n",
    "        \"params\": {\n",
    "            \"model__max_depth\": [3, 5, 10],\n",
    "            \"model__min_samples_split\": [2, 5, 10]\n",
    "        }\n",
    "    }\n",
    "}\n",
    "\n"
   ]
  },
  {
   "cell_type": "code",
   "execution_count": 7,
   "metadata": {},
   "outputs": [],
   "source": [
    "#Perform model tuning using GridSearchCV\n",
    "results_summary = []\n",
    "cv_strategy = KFold(n_splits=5, shuffle=True, random_state=42)\n",
    "\n",
    "for name, config in models_dict.items():\n",
    "    # Build a pipeline integrating preprocessing and the model\n",
    "    pipeline = Pipeline([\n",
    "        (\"scaler\", StandardScaler()),\n",
    "        (\"model\", config[\"model\"])\n",
    "    ])\n",
    "    # Run GridSearchCV to find the best parameters\n",
    "    grid_search = GridSearchCV(\n",
    "        estimator=pipeline,\n",
    "        param_grid=config[\"params\"],\n",
    "        scoring=\"accuracy\",\n",
    "        cv=cv_strategy,\n",
    "        n_jobs=-1\n",
    "    )\n",
    "    grid_search.fit(X_train, y_train)\n",
    "    \n",
    "    # Collect results\n",
    "    results_summary.append({\n",
    "        \"Model\": name,\n",
    "        \"Best Parameters\": grid_search.best_params_,\n",
    "        \"Best CV Score\": grid_search.best_score_\n",
    "    })"
   ]
  },
  {
   "cell_type": "code",
   "execution_count": 8,
   "metadata": {},
   "outputs": [
    {
     "name": "stdout",
     "output_type": "stream",
     "text": [
      "Model: LogisticRegression\n",
      "Best Parameters: {'model__C': 1}\n",
      "Cross-Validated Accuracy: 0.8286\n",
      "----------------------------------------\n",
      "Model: KNN\n",
      "Best Parameters: {'model__n_neighbors': 3, 'model__weights': 'uniform'}\n",
      "Cross-Validated Accuracy: 0.7890\n",
      "----------------------------------------\n",
      "Model: DecisionTree\n",
      "Best Parameters: {'model__max_depth': 3, 'model__min_samples_split': 2}\n",
      "Cross-Validated Accuracy: 0.7692\n",
      "----------------------------------------\n"
     ]
    }
   ],
   "source": [
    "# Display the results of GridSearchCV\n",
    "for result in results_summary:\n",
    "    print(f\"Model: {result['Model']}\")\n",
    "    print(f\"Best Parameters: {result['Best Parameters']}\")\n",
    "    print(f\"Cross-Validated Accuracy: {result['Best CV Score']:.4f}\")\n",
    "    print(\"-\" * 40)\n",
    "\n"
   ]
  },
  {
   "cell_type": "code",
   "execution_count": 9,
   "metadata": {},
   "outputs": [
    {
     "name": "stdout",
     "output_type": "stream",
     "text": [
      "Accuracy: 0.7895\n",
      "Precision: 0.5000\n",
      "Recall: 0.3750\n",
      "F1 Score: 0.4286\n"
     ]
    }
   ],
   "source": [
    "# Evaluate the best model on the test set\n",
    "# Assuming LogisticRegression performed the best\n",
    "best_model_name = \"LogisticRegression\"\n",
    "best_model = models_dict[best_model_name][\"model\"].set_params(\n",
    "    **{k.split(\"__\")[1]: v for k, v in results_summary[0][\"Best Parameters\"].items()}\n",
    ")\n",
    "best_model.fit(X_train, y_train)\n",
    "test_predictions = best_model.predict(X_test)\n",
    "\n",
    "# Calculate and print metrics\n",
    "metrics = {\n",
    "    \"Accuracy\": accuracy_score(y_test, test_predictions),\n",
    "    \"Precision\": precision_score(y_test, test_predictions),\n",
    "    \"Recall\": recall_score(y_test, test_predictions),\n",
    "    \"F1 Score\": f1_score(y_test, test_predictions)\n",
    "}\n",
    "for metric_name, metric_value in metrics.items():\n",
    "    print(f\"{metric_name}: {metric_value:.4f}\")\n",
    "\n",
    "\n"
   ]
  },
  {
   "cell_type": "code",
   "execution_count": 10,
   "metadata": {},
   "outputs": [
    {
     "data": {
      "image/png": "[encoded data removed]",
      "text/plain": [
       "<Figure size 640x480 with 2 Axes>"
      ]
     },
     "metadata": {},
     "output_type": "display_data"
    }
   ],
   "source": [
    "# Plot confusion matrix for visualization\n",
    "conf_matrix = confusion_matrix(y_test, test_predictions)\n",
    "sns.heatmap(conf_matrix, annot=True, fmt=\"d\", cmap=\"Blues\",\n",
    "            xticklabels=[\"Non-Arnie\", \"Arnie\"],\n",
    "            yticklabels=[\"Non-Arnie\", \"Arnie\"])\n",
    "plt.title(\"Confusion Matrix\")\n",
    "plt.xlabel(\"Predicted Label\")\n",
    "plt.ylabel(\"True Label\")\n",
    "plt.show()"
   ]
  }
 ],
 "metadata": {
  "kernelspec": {
   "display_name": "Python 3",
   "language": "python",
   "name": "python3"
  },
  "language_info": {
   "codemirror_mode": {
    "name": "ipython",
    "version": 3
   },
   "file_extension": ".py",
   "mimetype": "text/x-python",
   "name": "python",
   "nbconvert_exporter": "python",
   "pygments_lexer": "ipython3",
   "version": "3.10.11"
  }
 },
 "nbformat": 4,
 "nbformat_minor": 2
}
