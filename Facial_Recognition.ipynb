{
 "cells": [
  {
   "cell_type": "code",
   "execution_count": null,
   "metadata": {
    "vscode": {
     "languageId": "plaintext"
    }
   },
   "outputs": [],
   "source": [
    "# Import necessary libraries\n",
    "# These are the essential libraries used for data manipulation, model building, and evaluation.\n",
    "import pandas as pd\n",
    "from sklearn.model_selection import train_test_split, KFold, GridSearchCV\n",
    "from sklearn.pipeline import Pipeline\n",
    "from sklearn.preprocessing import StandardScaler\n",
    "from sklearn.linear_model import LogisticRegression\n",
    "from sklearn.neighbors import KNeighborsClassifier\n",
    "from sklearn.tree import DecisionTreeClassifier\n",
    "from sklearn.metrics import (\n",
    "    accuracy_score, precision_score, recall_score, f1_score, confusion_matrix\n",
    ")\n",
    "import seaborn as sns\n",
    "import matplotlib.pyplot as plt"
   ]
  },
  {
   "cell_type": "code",
   "execution_count": null,
   "metadata": {
    "vscode": {
     "languageId": "plaintext"
    }
   },
   "outputs": [],
   "source": [
    "# Load the dataset\n",
    "# The data consists of principal components and a binary label indicating Arnold Schwarzenegger (1) or not (0).\n",
    "data_path = \"data/lfw_arnie_nonarnie.csv\"\n",
    "data = pd.read_csv(data_path)"
   ]
  },
  {
   "cell_type": "code",
   "execution_count": null,
   "metadata": {
    "vscode": {
     "languageId": "plaintext"
    }
   },
   "outputs": [],
   "source": [
    "# Separate predictors (X) and target variable (y)\n",
    "X_features = data.drop(\"Label\", axis=1)\n",
    "y_target = data[\"Label\"]\n",
    "\n",
    "# Split into training and testing sets\n",
    "# Stratification ensures balanced representation of classes in both sets.\n",
    "X_train, X_test, y_train, y_test = train_test_split(\n",
    "    X_features, y_target, test_size=0.2, random_state=42, stratify=y_target\n",
    ")"
   ]
  },
  {
   "cell_type": "code",
   "execution_count": null,
   "metadata": {
    "vscode": {
     "languageId": "plaintext"
    }
   },
   "outputs": [],
   "source": [
    "# Define models and their hyperparameters for GridSearchCV\n",
    "# Each model has its own parameter grid for exploration.\n",
    "models_dict = {\n",
    "    \"LogisticRegression\": {\n",
    "        \"model\": LogisticRegression(),\n",
    "        \"params\": {\"model__C\": [0.01, 0.1, 1, 10]}\n",
    "    },\n",
    "    \"KNN\": {\n",
    "        \"model\": KNeighborsClassifier(),\n",
    "        \"params\": {\n",
    "            \"model__n_neighbors\": [3, 5, 7],\n",
    "            \"model__weights\": [\"uniform\", \"distance\"]\n",
    "        }\n",
    "    },\n",
    "    \"DecisionTree\": {\n",
    "        \"model\": DecisionTreeClassifier(),\n",
    "        \"params\": {\n",
    "            \"model__max_depth\": [3, 5, 10],\n",
    "            \"model__min_samples_split\": [2, 5, 10]\n",
    "        }\n",
    "    }\n",
    "}\n",
    "\n"
   ]
  },
  {
   "cell_type": "code",
   "execution_count": null,
   "metadata": {
    "vscode": {
     "languageId": "plaintext"
    }
   },
   "outputs": [],
   "source": [
    "#Perform model tuning using GridSearchCV\n",
    "results_summary = []\n",
    "cv_strategy = KFold(n_splits=5, shuffle=True, random_state=42)\n",
    "\n",
    "for name, config in models_dict.items():\n",
    "    # Build a pipeline integrating preprocessing and the model\n",
    "    pipeline = Pipeline([\n",
    "        (\"scaler\", StandardScaler()),\n",
    "        (\"model\", config[\"model\"])\n",
    "    ])\n",
    "    # Run GridSearchCV to find the best parameters\n",
    "    grid_search = GridSearchCV(\n",
    "        estimator=pipeline,\n",
    "        param_grid=config[\"params\"],\n",
    "        scoring=\"accuracy\",\n",
    "        cv=cv_strategy,\n",
    "        n_jobs=-1\n",
    "    )\n",
    "    grid_search.fit(X_train, y_train)\n",
    "    \n",
    "    # Collect results\n",
    "    results_summary.append({\n",
    "        \"Model\": name,\n",
    "        \"Best Parameters\": grid_search.best_params_,\n",
    "        \"Best CV Score\": grid_search.best_score_\n",
    "    })"
   ]
  },
  {
   "cell_type": "code",
   "execution_count": null,
   "metadata": {
    "vscode": {
     "languageId": "plaintext"
    }
   },
   "outputs": [],
   "source": [
    "# Display the results of GridSearchCV\n",
    "for result in results_summary:\n",
    "    print(f\"Model: {result['Model']}\")\n",
    "    print(f\"Best Parameters: {result['Best Parameters']}\")\n",
    "    print(f\"Cross-Validated Accuracy: {result['Best CV Score']:.4f}\")\n",
    "    print(\"-\" * 40)\n",
    "\n"
   ]
  },
  {
   "cell_type": "code",
   "execution_count": null,
   "metadata": {
    "vscode": {
     "languageId": "plaintext"
    }
   },
   "outputs": [],
   "source": [
    "# Evaluate the best model on the test set\n",
    "# Assuming LogisticRegression performed the best\n",
    "best_model_name = \"LogisticRegression\"\n",
    "best_model = models_dict[best_model_name][\"model\"].set_params(\n",
    "    **{k.split(\"__\")[1]: v for k, v in results_summary[0][\"Best Parameters\"].items()}\n",
    ")\n",
    "best_model.fit(X_train, y_train)\n",
    "test_predictions = best_model.predict(X_test)\n",
    "\n",
    "# Calculate and print metrics\n",
    "metrics = {\n",
    "    \"Accuracy\": accuracy_score(y_test, test_predictions),\n",
    "    \"Precision\": precision_score(y_test, test_predictions),\n",
    "    \"Recall\": recall_score(y_test, test_predictions),\n",
    "    \"F1 Score\": f1_score(y_test, test_predictions)\n",
    "}\n",
    "for metric_name, metric_value in metrics.items():\n",
    "    print(f\"{metric_name}: {metric_value:.4f}\")\n",
    "\n",
    "\n"
   ]
  },
  {
   "cell_type": "code",
   "execution_count": null,
   "metadata": {
    "vscode": {
     "languageId": "plaintext"
    }
   },
   "outputs": [],
   "source": [
    "# Plot confusion matrix for visualization\n",
    "conf_matrix = confusion_matrix(y_test, test_predictions)\n",
    "sns.heatmap(conf_matrix, annot=True, fmt=\"d\", cmap=\"Blues\",\n",
    "            xticklabels=[\"Non-Arnie\", \"Arnie\"],\n",
    "            yticklabels=[\"Non-Arnie\", \"Arnie\"])\n",
    "plt.title(\"Confusion Matrix\")\n",
    "plt.xlabel(\"Predicted Label\")\n",
    "plt.ylabel(\"True Label\")\n",
    "plt.show()"
   ]
  }
 ],
 "metadata": {
  "language_info": {
   "name": "python"
  }
 },
 "nbformat": 4,
 "nbformat_minor": 2
}
